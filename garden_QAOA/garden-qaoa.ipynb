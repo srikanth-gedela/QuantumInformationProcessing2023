{
 "cells": [
  {
   "cell_type": "markdown",
   "id": "01ac34a1-d7d7-4149-b0e4-61b158a0cda0",
   "metadata": {},
   "source": [
    "# Solving Garden Optimization Problem with the QAOA algorithm"
   ]
  },
  {
   "cell_type": "markdown",
   "id": "5a0c2c71-120c-4b41-9e32-0dbc3d3d5ee2",
   "metadata": {},
   "source": [
    "![Garden](planting.jpg)"
   ]
  },
  {
   "cell_type": "markdown",
   "id": "6d799fc6-dfc5-4629-b7a2-3002d0e06b95",
   "metadata": {},
   "source": [
    "In this tutorial, we will demonstrate how to generate an instance of the Garden Optimization Problem [[1]](#ref) and solve it using the Quantum Approximate Optimization Algorithm (QAOA) [[2]](#ref).\n",
    "\n",
    "To achieve this, we will be utilizing [Qiskit](https://qiskit.org/), a quantum development toolkit that offers a variety of implementations of common quantum optimization techniques including QAOA. Our primary objective is to gain a fundamental understanding of QAOA's optimization algorithm and how it can be utilized to solve combinatorial optimization problems.\n",
    "\n",
    "For additional technical details and examples, we recommend referring to the Qiskit documentation and the optimization tutorials page [[3]](#ref)."
   ]
  },
  {
   "cell_type": "markdown",
   "id": "e8247548-697c-4115-9e11-4fe1aaf2c5e3",
   "metadata": {},
   "source": [
    "## Table of Contents\n",
    "\n",
    "* [Garden Optimization Problem](#qubo)\n",
    "* [Classical solver](#exact)\n",
    "* [QAOA optimization](#qaoa)\n",
    "* [References](#ref)"
   ]
  },
  {
   "cell_type": "markdown",
   "id": "f9768911-81a7-47e8-abf5-6145765ecae4",
   "metadata": {},
   "source": [
    "## Relevant packages"
   ]
  },
  {
   "cell_type": "code",
   "execution_count": null,
   "id": "d5291e54-a347-490e-adf5-73b09b4a3c30",
   "metadata": {},
   "outputs": [],
   "source": [
    "import numpy as np\n",
    "import matplotlib.pyplot as plt\n",
    "from matplotlib.pyplot import cm\n",
    "\n",
    "# import sys, os\n",
    "# sys.path.append(os.path.abspath(\"<full path to GardenOptimizationProblem.py>\"))\n",
    "from GardenOptimizationProblem import GardenOptimizationProblem\n",
    "from sampling import sample_most_likely\n",
    "\n",
    "from qiskit import Aer, execute\n",
    "from qiskit.utils import QuantumInstance, algorithm_globals\n",
    "from qiskit.algorithms import QAOA\n",
    "from qiskit.algorithms.optimizers import COBYLA\n",
    "from qiskit.algorithms import NumPyMinimumEigensolver\n",
    "\n",
    "%matplotlib inline"
   ]
  },
  {
   "cell_type": "markdown",
   "id": "d7bd3afa-d013-41fd-a5ca-7fac1654ec5c",
   "metadata": {
    "tags": []
   },
   "source": [
    "## <a class=\"anchor\" id=\"qubo\"> </a>Garden Optimization Problem\n",
    "\n",
    "The goal of the Garden Optimization Problem (GOP) [[1]](#ref) is to find an optimal placement of `n` plants into `n` garden pots (one plant per pot). Each plant belongs to a particular species, and in fact, some species like to be placed next to each other, while others do not. An optimal placement of the `n` plants is thus a placement that maximizes the number of friendly relationships between neighboring pots.\n",
    "\n",
    "In addition, the following constraints are added to influence the optimal plant placement:\n",
    "\n",
    "1. \"*Fill all pots*\": Each of the `n` pots must be filled with exactly one plant.\n",
    "2. \"*Place all plants*\": All of the `n` plants are placed in the garden.\n",
    "3. \"*Always look on the bright side of life*\": (additional level of complexity) Large plants should not overshadow smaller plants.\n",
    "\n",
    "Workshop participants are welcome to learn more details about GOP and follow all the steps necessary to complete the binary problem formulation as provided in this [Tutorial](https://jugit.fz-juelich.de/qip/springschool2023/-/blob/main/garden_DWAVE/garden_DWAVE.ipynb). \n",
    "For the purpose of this tutorial, we skip this step and already provide the final binary problem formulation in the class `GardenOptimizationProblem` on only concentrate on the actual model setup.\n",
    "When choosing the problem parameters, please keep in mind the limitation on the maximum problem size (number of variables) that can be treated with quantum simulators. To be able to complete the tutorial with your local PC, the number of the variables (= the number of qubits) should not exceed 24.\n",
    "\n",
    "The GOP setup consists of 2 steps: defining the arrangement of the plant pots and selecting the plant species that should find its best location in the pots. For simplicity, let us consider the simplest $2 \\times 2$ arrangement of pots. Taking into account the 4 possible different types of plants that can be chosen to be placed in the pots, our optimization problem has a total of 16 variables."
   ]
  },
  {
   "cell_type": "code",
   "execution_count": null,
   "id": "6abc02ff-9960-4d13-b821-d8752827ff5b",
   "metadata": {},
   "outputs": [],
   "source": [
    "cols = 2\n",
    "rows = 2\n",
    "\n",
    "model = GardenOptimizationProblem()\n",
    "model.build_garden(cols, rows, verbose=True)"
   ]
  },
  {
   "cell_type": "markdown",
   "id": "345a297d-8b9b-42fa-9334-3ea0bb71693a",
   "metadata": {},
   "source": [
    "The collection of plants we are going to cultivate is already preset in the `GardenOptimizationProblem` instance.\n",
    "Let us randomly select 4 plants."
   ]
  },
  {
   "cell_type": "code",
   "execution_count": null,
   "id": "2d2a0b06",
   "metadata": {},
   "outputs": [],
   "source": [
    "species, count, size = model.pick_random_plants(replacement=False, seed=42)\n",
    "model.get_plants(species, count, size, companions=\"./companions.csv\", verbose=True)"
   ]
  },
  {
   "cell_type": "markdown",
   "id": "5f02fa52-3557-49bd-ba2f-7fdd1a5d8cd9",
   "metadata": {},
   "source": [
    "The companion matrix tells us which plants a given species prefers to have as neighbors (-1: like, 0: neutral, 1: dislike).\n",
    "\n",
    "The last step in the problem initialization is to formulate the Quadratic Unconstrained Binary Optimization (QUBO) problem. The QUBO formulation of GOP contains 3 parameters (Lagrangian coefficients due to the chosen constraints)."
   ]
  },
  {
   "cell_type": "code",
   "execution_count": null,
   "id": "6e0aa1f9-62bf-42d8-a2e5-a4a3bb54ec20",
   "metadata": {},
   "outputs": [],
   "source": [
    "# Lagrangian parameters (lambda_1, lambda_2, lambda_3)\n",
    "lagrangian_params = (2, 2, 1)\n",
    "\n",
    "# output is the DOCplex binary optimization model\n",
    "mdl = model.build_qubo(*lagrangian_params, verbose=False)"
   ]
  },
  {
   "cell_type": "markdown",
   "id": "82883bc7-9179-43bd-abf2-5c36224f4a57",
   "metadata": {},
   "source": [
    "For convenience, we store the QUBO problem in the [DOcplex model](https://www.ibm.com/docs/en/icos/12.9.0?topic=docplex-python-modeling-api) format. This format is widely used to execute the IBM Decision Optimization CPLEX optimizer from Python and has an interface to Qiskit."
   ]
  },
  {
   "cell_type": "code",
   "execution_count": null,
   "id": "759719a7-be5d-4ded-aa5a-51cf9b1f7f76",
   "metadata": {},
   "outputs": [],
   "source": [
    "mdl.prettyprint()"
   ]
  },
  {
   "cell_type": "markdown",
   "id": "79bfda4d-6e43-4e50-a532-7a30acacff4a",
   "metadata": {},
   "source": [
    "## <a class=\"anchor\" id=\"exact\"> </a>Classical solver\n",
    "\n",
    "The chosen problem size allows us to quickly estimate the solution with the simplest \"brute-force\" search. \n",
    "\n",
    "<font size=\"4\"><span style='background:yellow'>**Exercise:**</span></font> Implement the brute-force search for the Garden Optimization Problem given the problem objective/cost function can be computed with the `model.evaluate_objective(x)` method, where `x` is a solution candidate (specified as a list of binary bits). How many solutions do you get? How does the execution time scales with the problem size?\n",
    "\n",
    "Hint: The \"brute-force\" search essentially means to check the energies of all possible problem solutions and select the lowest ones. Use the Numpy routine `np.binary_repr()` to obtain the binary strings representing solutions. Additionally, to match the problem binary encoding, the strings should be reverted. "
   ]
  },
  {
   "cell_type": "code",
   "execution_count": null,
   "id": "7766be5c-edc6-4955-9eff-c069faea1a12",
   "metadata": {},
   "outputs": [],
   "source": [
    "# insert your code here"
   ]
  },
  {
   "cell_type": "code",
   "execution_count": null,
   "id": "b0d82b7d-31af-41aa-89c0-510c401076db",
   "metadata": {},
   "outputs": [],
   "source": [
    "# visualize the brute-force search solution\n",
    "# model.plot_solution(x_bf)"
   ]
  },
  {
   "cell_type": "markdown",
   "id": "4883a0cb-a001-4478-b70f-d0c34c13a97e",
   "metadata": {},
   "source": [
    "Obviously, brute-force search quickly becomes intractable due to the exponential growth of the configuration space. Therefore, for larger problems, one must use an efficient classical solver, e.g., this can be done very easily with the `solve()` method of our DOcplex model, provided that IBM's CPLEX solver is available."
   ]
  },
  {
   "cell_type": "code",
   "execution_count": null,
   "id": "923428d2-b057-4711-b240-666ade1a6f2c",
   "metadata": {},
   "outputs": [],
   "source": [
    "#----------------------------------------------------------------\n",
    "# Warning: The CPLEX solver is not installed on the JUNIQ cloud!\n",
    "#\n",
    "# The code below would work on you local PC if you followed \n",
    "# the installation instructions mentioned in README\n",
    "#----------------------------------------------------------------\n",
    "\n",
    "# mdl.solve()\n",
    "# mdl.print_solution()\n",
    "\n",
    "# x = dict()\n",
    "# for v in mdl.iter_binary_vars():\n",
    "#     x[v.index] = v.solution_value\n",
    "\n",
    "# # Visualize the classical solver solution\n",
    "# model.plot_solution(x)"
   ]
  },
  {
   "cell_type": "markdown",
   "id": "c3cb91ba-195c-43ca-bda5-6efa10eb608b",
   "metadata": {},
   "source": [
    "## <a class=\"anchor\" id=\"qaoa\"> </a>QAOA optimization"
   ]
  },
  {
   "cell_type": "markdown",
   "id": "4b3e038f-41d5-495d-bc9b-e5fc9e6aa203",
   "metadata": {},
   "source": [
    "QAOA is a popular hybrid quantum-classical variational algorithm that is designed for solving the combinatorial optimization problems on NISQ devices. Here is the QAOA algorithm flowchart that we are going to implement below using Qiskit facilities."
   ]
  },
  {
   "cell_type": "markdown",
   "id": "705ed045-a5aa-40aa-a006-56ce4b0392b2",
   "metadata": {},
   "source": [
    "![QAOA](qaoa.jpg)"
   ]
  },
  {
   "cell_type": "markdown",
   "id": "d25acaa7-c680-438b-b73b-b05bb1ccde23",
   "metadata": {},
   "source": [
    "### From QUBO to Ising model"
   ]
  },
  {
   "cell_type": "markdown",
   "id": "512871af-894b-4be1-a7e4-a7e3aae4d2d4",
   "metadata": {},
   "source": [
    "To setup the QAOA quantum algorithm, we need to convert the binary problem into the corresponding Ising Hamiltonian, which is further transformed into a quantum circuit. Qiskit automates this conversion:"
   ]
  },
  {
   "cell_type": "code",
   "execution_count": null,
   "id": "e5a5938e-8222-4d3c-b489-9a71a3fe1505",
   "metadata": {},
   "outputs": [],
   "source": [
    "from qiskit_optimization.translators import from_docplex_mp\n",
    "\n",
    "qp = from_docplex_mp(mdl)\n",
    "qubitOp, offset = qp.to_ising()\n",
    "\n",
    "print(\"Offset:\", offset)\n",
    "print(\"Ising Hamiltonian:\\n\", str(qubitOp))"
   ]
  },
  {
   "cell_type": "markdown",
   "id": "439b5198-589f-4dc5-8e70-3d0bd670560b",
   "metadata": {},
   "source": [
    "`qubitOp` contains representation of the objective function in terms of the Pauli's `Z` and `ZZ` operators. `offset` is a constant (physically irrelevant energy shift) that is basically required to obtain the absolute value of the objective function for comparison with classical methods."
   ]
  },
  {
   "cell_type": "markdown",
   "id": "09454946-7290-4457-b0e2-edbc235d08c1",
   "metadata": {},
   "source": [
    "### QAOA ansatz\n",
    "\n",
    "The next step is to construct the QAOA variational ansatz. This can be done explicitly using the basic Qiskit quantum circuit constructor routines. Instead, for simplicity, we will use the generic constructor already provided by Qiskit. The key parameter is the depth of the ansatz `p`."
   ]
  },
  {
   "cell_type": "code",
   "execution_count": null,
   "id": "d73571fe-28e3-406e-975b-4eb3595175e8",
   "metadata": {},
   "outputs": [],
   "source": [
    "from qiskit.circuit.library.n_local.qaoa_ansatz import QAOAAnsatz\n",
    "\n",
    "p = 1\n",
    "\n",
    "qaoa_ansatz = QAOAAnsatz(qubitOp, reps=p)\n",
    "\n",
    "print(qaoa_ansatz.draw())\n",
    "# print(qaoa_ansatz.decompose().draw())"
   ]
  },
  {
   "cell_type": "markdown",
   "id": "84b356b3-ab4d-4a1c-bae5-3a3bed973385",
   "metadata": {},
   "source": [
    "If you want to see the explicit circuit structure, uncomment the bottom line. But beware of the output verbosity!\n",
    "\n",
    "From a practical point of view, one may also be interested in knowing the properties of the quantum circuit, such as the circuit depth and the number of gates involved. This can be done with"
   ]
  },
  {
   "cell_type": "code",
   "execution_count": null,
   "id": "57aedfd2-e716-4510-842e-f2fc79cc1fd6",
   "metadata": {},
   "outputs": [],
   "source": [
    "from qiskit.compiler import transpile\n",
    "# from qiskit.providers.fake_provider import FakeGuadalupeV2\n",
    "\n",
    "backend = Aer.get_backend(\"qasm_simulator\")\n",
    "# backend = FakeGuadalupeV2()\n",
    "\n",
    "ansatz = transpile(qaoa_ansatz, backend)\n",
    "\n",
    "print(\"QAOA p:\", p)\n",
    "print(\"Number of qubits:\", ansatz.num_qubits)\n",
    "print(\"Circuit depth:\", ansatz.depth())\n",
    "print(\"Number of gates:\", list(ansatz.count_ops().items()))"
   ]
  },
  {
   "cell_type": "markdown",
   "id": "8196621f-7adb-4daa-9be6-49ee04552376",
   "metadata": {},
   "source": [
    "Thus, by choosing an appropriate `backend`, one could investigate the circuit structure requirements for a real quantum hardware."
   ]
  },
  {
   "cell_type": "markdown",
   "id": "364e65dd-3e79-4fa4-a322-2e78465c7b89",
   "metadata": {},
   "source": [
    "<font size=\"4\"><span style='background:yellow'>**Exercise:**</span></font> \n",
    "Discuss the resources that would be required to execute the QAOA algorithm on a \"fake\" quantum device.\n",
    "The fake backends are built to mimic the behaviors of IBM Quantum devices and contain important information about the quantum system such as coupling map, basis gates, qubit properties (T1, T2, error rate, etc.) which are useful for testing the transpiler and performing noisy simulation of the system."
   ]
  },
  {
   "cell_type": "markdown",
   "id": "166367c2-16ce-4257-8f88-76467b51fb14",
   "metadata": {},
   "source": [
    "### Exact diagonalization\n",
    "\n",
    "As for the classical solvers, in the case of small system sizes, the Ising Hamiltonian can be diagonalized using the classical approach, for instance, involving routines from NumPy."
   ]
  },
  {
   "cell_type": "code",
   "execution_count": null,
   "id": "6116084e-c82a-4786-9e6e-bdd7467dbb06",
   "metadata": {},
   "outputs": [],
   "source": [
    "# Making the Hamiltonian in its full form and getting the lowest eigenvalue and eigenvector\n",
    "ee = NumPyMinimumEigensolver()\n",
    "result = ee.compute_minimum_eigenvalue(qubitOp)\n",
    "\n",
    "print(\"Minimized objective:\", result.eigenvalue.real + offset)\n",
    "\n",
    "x_exact = sample_most_likely(result.eigenstate)\n",
    "obj_exact = qp.objective.evaluate(x_exact)\n",
    "print(\"Solution:\", x_exact)\n",
    "print(\"Solution objective:\", obj_exact)\n",
    "\n",
    "model.plot_solution(x_exact)"
   ]
  },
  {
   "cell_type": "markdown",
   "id": "32d0ba29-952b-415f-8466-60c1e2388930",
   "metadata": {},
   "source": [
    "Here you have the opportunity to compare the obtained solutions with the ones you might have computed earlier with the \"brute-force\" method."
   ]
  },
  {
   "cell_type": "markdown",
   "id": "7170f60d-d894-49ea-8f6f-898c01cd3ef2",
   "metadata": {
    "tags": []
   },
   "source": [
    "### Quantum computer\n",
    "\n",
    "Quantum computing offers an alternative algorithm to estimate the lowest eigenstates of the Ising Hamiltonian - the quantum variational eigensolver with the QAOA variational ansatz. Besides the variational ansatz, the algorithm requires the specification of a classical local optimizer (`opt=COBYLA()`), which is used to optimize the circuit parameters $\\beta$ and $\\gamma$. The QAOA solutions are known to be extremely sensitive to the choice of the starting point. To speed up the optimization procedure, we provide a \"good\" starting point for the tutorial problem that quickly leads to a correct solution.\n",
    "\n",
    "The Qiskit's Aer provider contains a variety of high performance simulator backends for a variety of simulation methods. The available backends on the current system can be viewed using `Aer.backends`. We choose the shot-based quantum computer simulator and set the seed value of the random number generator for reproducibility."
   ]
  },
  {
   "cell_type": "code",
   "execution_count": null,
   "id": "7e43b4c8-4ffc-462b-a5a0-a07a162ce391",
   "metadata": {},
   "outputs": [],
   "source": [
    "seed = 12345\n",
    "algorithm_globals.random_seed = seed\n",
    "\n",
    "backend = Aer.get_backend(\"qasm_simulator\")\n",
    "\n",
    "n_shots = 129\n",
    "quantum_instance = QuantumInstance(\n",
    "    backend, seed_simulator=seed, seed_transpiler=seed, shots=n_shots\n",
    ")"
   ]
  },
  {
   "cell_type": "code",
   "execution_count": null,
   "id": "cf00b8bf-678c-4ab0-a02d-b393fe3cf9d0",
   "metadata": {},
   "outputs": [],
   "source": [
    "%%time\n",
    "\n",
    "p = 1\n",
    "\n",
    "# to visualize the optimization history\n",
    "counts = []\n",
    "values = []\n",
    "def store_intermediate_result(eval_count, parameters, mean, std):\n",
    "    counts.append(eval_count)\n",
    "    values.append(mean+offset)\n",
    "    \n",
    "initial_point = [0.5, -0.25]\n",
    "    \n",
    "opt = COBYLA(maxiter=100)\n",
    "qaoa = QAOA(\n",
    "    optimizer=opt, reps=p, \n",
    "    quantum_instance=quantum_instance, \n",
    "    initial_point=initial_point, \n",
    "    callback=store_intermediate_result,\n",
    ")\n",
    "\n",
    "out = qaoa.compute_minimum_eigenvalue(qubitOp)\n",
    "opt_params = list(out.optimal_parameters.values())\n",
    "\n",
    "print()\n",
    "print(\"Expectation value: {0:.4f}\".format(out.eigenvalue.real + offset))\n",
    "print(\"Optimal parameters (β, γ): {0}\".format(opt_params))\n",
    "print()"
   ]
  },
  {
   "cell_type": "code",
   "execution_count": null,
   "id": "866d3635-a1ed-4827-b115-c708ca5a66d0",
   "metadata": {},
   "outputs": [],
   "source": [
    "plt.figure(figsize=(6, 5))\n",
    "plt.plot(counts, values, label=type(opt).__name__)\n",
    "plt.xlabel(\"Number of function evaluations\")\n",
    "plt.ylabel(\"Expectation value\")\n",
    "plt.title(\"Objective function convergence\")\n",
    "plt.legend()\n",
    "plt.show()"
   ]
  },
  {
   "cell_type": "markdown",
   "id": "a7d2acea-0ba0-4480-97d6-1a1d90fa1327",
   "metadata": {},
   "source": [
    "Let us discuss the workflow and output of the QAOA optimization procedure. When using the shot-based simulator, the QAOA algorithm generates `n_shots` binary strings, each of which could be considered as a candidate solution. \n",
    "On the classical backend, the objective values are computed for each string. The expectation value (mean objective) is used to optimize the variational parameters following the instructions of the local classical optimization algorithm. The quantum/classical optimization procedure terminates after satisfying the stopping criteria (`maxiter`).\n",
    "\n",
    "The main output of the QAOA optimization procedure is a list of variational parameters/angles. We use these angles to setup the optimized QAOA variational ansatz and sample the final state from it."
   ]
  },
  {
   "cell_type": "code",
   "execution_count": null,
   "id": "3b9fada0-2f35-4c66-8d5a-e9cf8ed75bd4",
   "metadata": {},
   "outputs": [],
   "source": [
    "def sampling(\n",
    "    ansatz, params, n_shots=128, backend=Aer.get_backend(\"qasm_simulator\"), seed=12345\n",
    "):\n",
    "    qc = ansatz.copy()\n",
    "    qc.measure_all()\n",
    "\n",
    "    job = execute(\n",
    "        qc.assign_parameters(parameters=params),\n",
    "        backend,\n",
    "        shots=n_shots,\n",
    "        seed_simulator=seed,\n",
    "        seed_transpiler=seed,\n",
    "    )\n",
    "    counts = job.result().get_counts()\n",
    "\n",
    "    sols = []\n",
    "    for s, p in counts.items():\n",
    "        x = np.asarray([int(y) for y in reversed(list(s))])\n",
    "        obj = qp.objective.evaluate(x)\n",
    "        sols.append({\"x\": x, \"prob\": p / n_shots, \"obj\": obj, \"feas\": model.is_feasible(x)})\n",
    "\n",
    "    return sols\n",
    "\n",
    "\n",
    "def plot_solutions(dict_sols, exact, show_feasible=False, sort_obj=True):\n",
    "    \"\"\"Visualize the QAOA solutions.\n",
    "    \n",
    "    Args:\n",
    "        dict_sols: dictionary {\"label\": solutions_dict, ...} of data for visualization\n",
    "        exact: reference value for the objective function\n",
    "        show_feasible: highlight the feasible solutions\n",
    "        sort_obj: sort the objective function values\n",
    "    \"\"\"\n",
    "    fig, ax = plt.subplots(1, 2, figsize=(11, 5))\n",
    "\n",
    "    for label, sol in dict_sols.items():\n",
    "        if sort_obj:\n",
    "            sol = sorted(sol, key=lambda d: d[\"obj\"])\n",
    "        \n",
    "        x = [s[\"obj\"] for s in sol]\n",
    "        y = [s[\"prob\"] for s in sol]\n",
    "        z = [s[\"feas\"] for s in sol]\n",
    "\n",
    "        ax[0].plot(x)\n",
    "        ax[0].set_xlabel(\"Samples\")\n",
    "        ax[0].set_ylabel(\"Objective\")\n",
    "\n",
    "        ax[1].bar(x, y, width=0.5, label=label)\n",
    "        if show_feasible:\n",
    "            x_feas, y_feas = [], []\n",
    "            for _x, _y, _z in zip(x, y, z):\n",
    "                if _z:\n",
    "                    x_feas.append(_x)\n",
    "                    y_feas.append(_y)\n",
    "            ax[1].bar(x_feas, y_feas, width=1.0, label=label + \" (feas)\", color=\"green\", fill=False, lw=3, edgecolor=\"green\")\n",
    "        ax[1].set_xlabel(\"Objective\")\n",
    "        ax[1].set_ylabel(\"Quasi probability\")\n",
    "    \n",
    "    # exact solution\n",
    "    ax[0].axhline(y=exact, ls=\":\", color='k')\n",
    "    ax[1].axvline(x=exact, ls=\":\", color='k', label='exact')\n",
    "\n",
    "    plt.legend()\n",
    "    plt.show()"
   ]
  },
  {
   "cell_type": "code",
   "execution_count": null,
   "id": "e965e1fd-373e-4593-81c5-1631ca9f1382",
   "metadata": {},
   "outputs": [],
   "source": [
    "sols = sampling(\n",
    "    qaoa.ansatz, out.optimal_parameters, backend=backend, n_shots=128, seed=12345\n",
    ")\n",
    "\n",
    "plot_solutions({\"QAOA\": sols}, obj_exact, show_feasible=True)"
   ]
  },
  {
   "cell_type": "markdown",
   "id": "235c972c-ff4d-4843-b3fd-439ca99195dc",
   "metadata": {},
   "source": [
    "On the left, we plot the objectives for all output samples. The black dotted line shows the exact value (taken from the exact solver). On the right, we see the quasi probability to find the solution at a given energy. Unlike the exact solver, the QAOA returns multiple solutions in a wide energy interval. With the green bars we mark the \"feasible\" solutions, i.e. the solution that satisfy all the constraints.\n",
    "\n",
    "Let us take a closer look at the solutions with the lowest objectives."
   ]
  },
  {
   "cell_type": "code",
   "execution_count": null,
   "id": "eecde63f-d18a-4c51-a961-368316cd7cb1",
   "metadata": {},
   "outputs": [],
   "source": [
    "print(\"Lowest objective solutions:\")\n",
    "lowest_obj_solutions = sorted(sols, key=lambda kv: kv[\"obj\"])\n",
    "for s in lowest_obj_solutions[:8]:\n",
    "    print(s)"
   ]
  },
  {
   "cell_type": "markdown",
   "id": "c521da87-3758-4ccd-abcb-1b83c932070c",
   "metadata": {},
   "source": [
    "The string with the lowest objective value has the same energy as the one obtained earlier with the exact diagonalization. We might notice the exact and QAOA strings differ but having the same objective - the ground state solution is degenerate."
   ]
  },
  {
   "cell_type": "code",
   "execution_count": null,
   "id": "034b85e1",
   "metadata": {
    "tags": []
   },
   "outputs": [],
   "source": [
    "model.plot_solution(lowest_obj_solutions[0][\"x\"])"
   ]
  },
  {
   "cell_type": "markdown",
   "id": "377caa7b-3439-4896-9012-4c7d7ed892dc",
   "metadata": {},
   "source": [
    "As it follows from the plot, the next solution has a higher objective but also a higher sampling probability. Let us examine this solution."
   ]
  },
  {
   "cell_type": "code",
   "execution_count": null,
   "id": "40c3e671-9e8d-451c-99e6-c4d97f945033",
   "metadata": {},
   "outputs": [],
   "source": [
    "model.plot_solution(lowest_obj_solutions[1][\"x\"])"
   ]
  },
  {
   "cell_type": "markdown",
   "id": "25590de1-40c7-4d6c-8948-6719e1cc3ef9",
   "metadata": {},
   "source": [
    "This sample does not satisfy all the applied problem constraints. Nevertheless, this sample could still be considered as a near optimal solution."
   ]
  },
  {
   "cell_type": "markdown",
   "id": "34dc2cc3-b2c8-4d51-8837-1f54ea6f78ad",
   "metadata": {},
   "source": [
    "### Energy surface"
   ]
  },
  {
   "cell_type": "markdown",
   "id": "53103065-546e-45cc-a6b3-dafadf33b5a2",
   "metadata": {},
   "source": [
    "For `p=1`, one can visualize the cost energy surface as a function of the $\\beta$ and $\\gamma$ angles."
   ]
  },
  {
   "cell_type": "code",
   "execution_count": null,
   "id": "62dca538-ea74-4e39-966a-0d5059e76ed3",
   "metadata": {},
   "outputs": [],
   "source": [
    "%%time\n",
    "\n",
    "N1 = 20\n",
    "N2 = 10\n",
    "beta = np.linspace(start=-np.pi, stop=np.pi, num=N1)\n",
    "gamma = np.linspace(start=-np.pi/2, stop=np.pi/2, num=N2)\n",
    "\n",
    "e = qaoa.get_energy_evaluation(qubitOp, return_expectation=False)\n",
    "\n",
    "energy = np.zeros((N1, N2))\n",
    "for i, b in enumerate(beta):\n",
    "    for j, g in enumerate(gamma):\n",
    "        params = [b, g]\n",
    "        energy[i, j] = e(params) + offset"
   ]
  },
  {
   "cell_type": "markdown",
   "id": "120949e9-eac9-4fa6-a7dc-e90b5368deb2",
   "metadata": {},
   "source": [
    "We can plot the energy surface as a heatmap and add the location (cross) of the optimal angles found from the QAOA run above. "
   ]
  },
  {
   "cell_type": "code",
   "execution_count": null,
   "id": "0f252a47-090c-48d8-8261-7b4e0ac3413e",
   "metadata": {},
   "outputs": [],
   "source": [
    "fig = plt.figure(figsize=(6, 6), dpi=80, facecolor=\"w\", edgecolor=\"k\")\n",
    "\n",
    "X, Y = np.meshgrid(beta, gamma)\n",
    "\n",
    "ax = plt.gca()\n",
    "im = ax.imshow(\n",
    "    energy.T,\n",
    "    interpolation=None,\n",
    "    origin=\"lower\",\n",
    "    extent=[X.min(), X.max(), Y.min(), Y.max()],\n",
    "    cmap=cm.coolwarm,\n",
    "    vmax=None,\n",
    "    aspect=\"auto\",\n",
    ")\n",
    "plt.title(\"Expectation value\")\n",
    "plt.xlabel(r\"$\\beta$\")\n",
    "plt.ylabel(r\"$\\gamma$\")\n",
    "\n",
    "ax.scatter(opt_params[0], opt_params[1], marker=\"X\", s=500, c=\"black\")\n",
    "\n",
    "from mpl_toolkits.axes_grid1 import make_axes_locatable\n",
    "\n",
    "divider = make_axes_locatable(ax)\n",
    "cax = divider.append_axes(\"right\", size=\"5%\", pad=0.05)\n",
    "plt.colorbar(im, cax=cax)\n",
    "plt.show()"
   ]
  },
  {
   "cell_type": "markdown",
   "id": "cd08a972-bdca-4153-a42e-f6cfb580afb6",
   "metadata": {},
   "source": [
    "The plot clearly shows us the regions to initialize the optimization parameters in the case of p=1. Note the characteristics of the visualized pattern. Due to the shape of the mixing operator, we can clearly see the periodicity in $\\beta$. However, there is no periodicity along $\\gamma$. We should always keep this in mind when searching for the optimal parameters."
   ]
  },
  {
   "cell_type": "markdown",
   "id": "791edfae-57fc-4f4f-9a1d-1fafff17f60c",
   "metadata": {},
   "source": [
    "<font size=\"4\"><span style='background:yellow'>**Exercise:**</span></font> Try to visualize the energy surface in 3D."
   ]
  },
  {
   "cell_type": "code",
   "execution_count": null,
   "id": "25e686b6-0361-42af-a1ec-2c2b7a09f011",
   "metadata": {},
   "outputs": [],
   "source": [
    "# insert your code here"
   ]
  },
  {
   "cell_type": "markdown",
   "id": "5d72c130-9e0e-4557-8c7a-4cff2ba98520",
   "metadata": {},
   "source": [
    "<font size=\"4\"><span style='background:yellow'>**Exercise:**</span></font> Efficient parameter initialization in QAOA is an active area of research. We offer you to check the QAOA solutions computed with random initializations. Moreover, you could also play with other [local optimizers](https://qiskit.org/documentation/stubs/qiskit.algorithms.optimizers.html) available in Qiskit."
   ]
  },
  {
   "cell_type": "markdown",
   "id": "0896e77a-85e2-4516-aa7f-a51e5bf6e7a1",
   "metadata": {},
   "source": [
    "<font size=\"4\"><span style='background:yellow'>**(optional) Exercise:**</span></font> We use the shot-based quantum simulator such that the final state is estimated statistically by setting the number of shots (`n_shots`).\n",
    "Therefore, it is also interesting to check the influence of `n_shots` on the output of the QAOA algorithm."
   ]
  },
  {
   "cell_type": "code",
   "execution_count": null,
   "id": "747cf289-c8e9-42c5-9cba-2df6f824e199",
   "metadata": {},
   "outputs": [],
   "source": [
    "# insert your code here"
   ]
  },
  {
   "cell_type": "markdown",
   "id": "a1804cc2-b821-47d9-8e69-8fe739c311e9",
   "metadata": {},
   "source": [
    "<font size=\"4\"><span style='background:yellow'>**Exercise:**</span></font> Above we were trying to find problem solutions with the simplest `p=1` QAOA ansatz. Could you examine what happpens when you increase `p`?"
   ]
  },
  {
   "cell_type": "code",
   "execution_count": null,
   "id": "a5db9773-c81b-4ca0-8086-8a4c27be8317",
   "metadata": {},
   "outputs": [],
   "source": [
    "# insert your code here"
   ]
  },
  {
   "cell_type": "markdown",
   "id": "7b420237-05fd-4ecb-8f2c-f4c3dc1a62ef",
   "metadata": {},
   "source": [
    "Increasing the QAOA circuit depth has an important effect that helps to improve the solutions. As we could see, the solver concentrates the samples in the low energy region. As a result, we might expect to incease the probability to find an optimal solution. Note, however, that the initialization of the QAOA parameters was not random! The success of the QAOA search would still be strongly influenced by the initialization strategy [[4]](#ref)."
   ]
  },
  {
   "cell_type": "markdown",
   "id": "55841edf-221c-42a1-b9f7-c3269aaf7aac",
   "metadata": {},
   "source": [
    "## Other topics discussed in this course"
   ]
  },
  {
   "cell_type": "markdown",
   "id": "66e19d53-18ef-4a94-8ce4-710c07b00a80",
   "metadata": {},
   "source": [
    "In this notebook, we have covered how to solve the Garden Optimization Problem using the Quantum Approximate Optimization Algorithm (QAOA). We used the Qiskit quantum developement toolkit to setup the quantum variational ansatz and the computational workflow to emulate the quantum computer.\n",
    "\n",
    "To go deeper into a topic how to formulate the Garden Optimization Problem and encode it into an Quadratic Unconstrained Binary Optimization (QUBO) problem, please check the tutorial [\"Garden Optimization Problems\"](https://jugit.fz-juelich.de/qip/springschool2023/-/blob/main/garden_DWAVE/garden_DWAVE.ipynb). In that tutorial you will also learn how to find solutions using an alternative quantum optimization algorithm and how to execute it on the D-Wave Quantum Annealer.\n",
    "\n",
    "Another example of a \"real-world\" optimization problem is presented in the [\"Knapsack problem\"](https://jugit.fz-juelich.de/qip/springschool2023/-/blob/main/knapsack_QAOA/knapsack-qaoa.ipynb) tutorial. \n",
    "There, you can further practice deriving the optimization problem in the QUBO formulation and using the Qiskit quantum development toolkit to implement the QAOA algorithm.\n",
    "\n",
    "Another very famous example of the real and challenging optimization problem is studied in the tutorial [\"Travelling Salesperson Problem\"](https://jugit.fz-juelich.de/qip/springschool2023/-/tree/main/tsp_DWAVE). This tutorial will introduce you to the exciting world of the Quantum Annealers."
   ]
  },
  {
   "cell_type": "markdown",
   "id": "3a246665-ee3c-4363-a6ed-4bcddd73a64d",
   "metadata": {},
   "source": [
    "## <a class=\"anchor\" id=\"ref\"> </a>References\n",
    "\n",
    "[1] Gonzalez Calaza, C. D.; Willsch, D.; Michielsen, K. Garden Optimization Problems for Benchmarking Quantum Annealers. Quantum Inf Process 2021, 20 (9), 305. https://doi.org/10.1007/s11128-021-03226-6.\n",
    "\n",
    "[2] Edward Farhi, Jeffrey Goldstone, and Sam Gutmann. \"A quantum approximate optimization algorithm.\" [arXiv preprint arXiv:1411.4028 (2014)](https://arxiv.org/abs/1411.4028).\n",
    "\n",
    "[3] https://qiskit.org/documentation/optimization/\n",
    "\n",
    "[4] Zhou, L. et al., Quantum Approximate Optimization Algorithm: Performance, Mechanism, and Implementation on Near-Term Devices. Phys. Rev. X 2020, 10 (2), 021067. https://doi.org/10.1103/PhysRevX.10.021067."
   ]
  },
  {
   "cell_type": "code",
   "execution_count": null,
   "id": "12b5a43f",
   "metadata": {},
   "outputs": [],
   "source": [
    "import qiskit.tools.jupyter\n",
    "\n",
    "%qiskit_version_table"
   ]
  }
 ],
 "metadata": {
  "kernelspec": {
   "display_name": "ss23-qaoa",
   "language": "python",
   "name": "ss23-qaoa"
  },
  "language_info": {
   "codemirror_mode": {
    "name": "ipython",
    "version": 3
   },
   "file_extension": ".py",
   "mimetype": "text/x-python",
   "name": "python",
   "nbconvert_exporter": "python",
   "pygments_lexer": "ipython3",
   "version": "3.9.17"
  }
 },
 "nbformat": 4,
 "nbformat_minor": 5
}
