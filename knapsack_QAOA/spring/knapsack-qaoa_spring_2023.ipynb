{
 "cells": [
  {
   "cell_type": "markdown",
   "id": "87c852ef",
   "metadata": {},
   "source": [
    "# The Knapsack Problem \n",
    "In the knapsack problem (KP), a set of items with associated weights and values should be stored in a knapsack. The problem is to maximize the value of the items transported in the knapsack. The KP is restricted by the maximum weight the knapsack can carry. The KP is the simplest nontrivial integer programming model with binary variables, only one constraint, and positive coefficients. It is formally defined by\n",
    "\n",
    "\\begin{equation}\\label{Eq.1}\n",
    "\\max  \\sum_{i=1}^{n} p_{i} x_{i},\n",
    "\\end{equation}\n",
    "\n",
    "\\begin{equation}\\label{Eq.2}\n",
    "\\sum_{i=1}^{n} w_{i} x_{i} \\leq W, \n",
    "\\end{equation}\n",
    "\n",
    "where $n$ is the number of items, $p_{i}$ and $w_{i}$ is the value and weight of the $ith$ item, respectively, $x_i$ is the binary variable that represents whether the $ith$ item is in the knapsack or not, and W is the maximum weight that the knapsack can transport. \n",
    "\n",
    "In this tutorial, we will generate an instance of the [knapsack problem](https://en.wikipedia.org/wiki/Knapsack_problem) and solve it using the quantum approximate optimization algorithm [QAOA](https://arxiv.org/abs/1411.4028). Our goal is to undestand the different steps to encode a combinatorial optimization problem as an ising Hamiltonian, how the QAOA function works and how postprocessing the results of QAOA.\n",
    "\n",
    "# Table of Contents\n",
    "\n",
    "1. [Quadratic unconstrained binary optimization](#qubo)\n",
    "2. [Example](#example)<br>\n",
    "    2.1 [Ising Hamiltonian](#ising)<br>\n",
    "    2.2 [Brute force solution](#brute_sol)\n",
    "3. [QAOA](#qaoa)<br>\n",
    "    3.1 [QAOA circuit](#qaoa_circ)<br>\n",
    "    3.2 [Optimization](#qaoa_opt)<br>\n",
    "    3.3 [Visualization](#visualization)\n",
    "4. [Task 3](#task3)"
   ]
  },
  {
   "cell_type": "markdown",
   "id": "7c678740",
   "metadata": {},
   "source": [
    "## <a class=\"anchor\" id=\"qubo\"> </a>1. Quadratic unconstrained binary optimization (QUBO)\n",
    "\n",
    "The set of combinatorial problems that can be represented by the QUBO formulation are characterized by functions of the form\n",
    "\n",
    "\\begin{equation}\n",
    "f(\\mathrm{x}) = \\frac{1}{2}\\sum_{i=1}^{n} \\sum_{j=1}^n q_{ij} x_{i} x_{j}, \\tag{1}\n",
    "\\end{equation}\n",
    "where $n$ is the number of variables, $q_{ij} \\in \\mathbb{R}$ are coefficients associated to the specific problem, and $x_i \\in \\{0,1\\}$ are the binary variables of the problem. Note that $x_{i} x_{i} \\equiv x_{i}$ and $q_{ij} = q_{ji}$ in this formulation. Therefore, the general form of a combinatorial optimization problem solvable by QPUs is given by the cost function\n",
    "\n",
    "\\begin{equation}\\label{QUBO_form}\n",
    "f(\\mathrm{x}) = \\sum_{i=1}^{n-1} \\sum_{j > i}^n q_{ij}x_{i}x_{j} + \\sum_{i=1}^n q_{ii} x_i,\\tag{2}\n",
    "\\end{equation}\n",
    "and equality constraints given by\n",
    "\n",
    "\\begin{equation}\n",
    "\\sum_{i=1}^n c_i x_i = C, \\ c_i \\in \\mathbb{R}, \\tag{3}\n",
    "\\end{equation}\n",
    "and inequality constraints given by\n",
    "\n",
    "\\begin{equation}\\label{inequality}\n",
    "\\sum_{i=1}^n l_i x_i \\ge B, \\ l_i \\in \\mathbb{R} \\tag{4}\n",
    "\\end{equation}\n",
    "\n",
    "where $C$ and $R$ are constants. To transform these problems into the QUBO formulation the constraints are added as penalization terms. In this respect, the equality constraints are included in the cost function using the following penalization term\n",
    "\n",
    "\\begin{equation}\\label{EQ_F}\n",
    "\\lambda_0 \\left(\\sum_{i=1}^n c_i x_i - C\\right)^2,\\tag{5}\n",
    "\\end{equation}\n",
    "where $\\lambda_0$ is a penalization coefficient that should be chosen to guarantee that the equality constraint is fulfilled. In the case of inequality constraint, the common approach is to use a [slack variable](https://en.wikipedia.org/wiki/Slack_variable#:~:text=In%20an%20optimization%20problem%2C%20a,constraint%20on%20the%20slack%20variable.). The slack variable, $S$, is an auxiliary variable that makes a penalization term vanish when the inequality constraint is achieved,\n",
    "\n",
    " \\begin{equation}\\label{ineq}\n",
    " \\sum_{i=1}^n l_i x_i - S - B = 0.\\tag{6}\n",
    " \\end{equation}\n",
    " Therefore, when Eq.(\\ref{inequality}) is satisfied, Eq.(\\ref{ineq}) is already zero. This means the slack variable, $S$, must be in the range $0 \\le S \\le \\max_x \\sum_{i=1}^n l_i x_i - B$. To represent the $slack$ variable in binary form, the slack is decomposed in \n",
    " binary variables: \n",
    "\n",
    "\\begin{equation}\\label{SB} \n",
    "S = \\sum_{k=0}^{N-1} 2^k s_k,\\tag{7}\n",
    "\\end{equation}\n",
    "where $s_k$ are the slack binary variables. Then, the inequality constraints are added as penalization terms by \n",
    " \n",
    " \\begin{equation}\\label{Ineq_EF}\n",
    " \\lambda_1  \\left(\\sum_{i=1}^n l_i x_i - \\sum_{k=0}^{N-1} 2^k s_k - B\\right)^2. \\tag{8}\n",
    " \\end{equation}\n",
    " \n",
    "Combining Eq.(\\ref{QUBO_form}) and the two kinds of constraints Eq.(\\ref{EQ_F}) and Eq.(\\ref{Ineq_EF}), the general QUBO representation of a given combinatorial optimization problem is given by\n",
    "\n",
    " \\begin{equation}\\label{QUBO}\n",
    " \\min_x \\left(\\sum_{i=1}^{n-1} \\sum_{j > i}^nc_{ij}x_{i}x_{j} + \\sum_{i=1}^n h_i x_i + \\lambda_0  \\left(\\sum_{i=1}^n q_i x_i - C\\right)^2\n",
    "+  \\lambda_1  \\left(\\sum_{i=1}^n l_i x_i - \\sum_{k=0}^{N-1} 2^k s_k - B\\right)^2\\right). \\tag{10}\n",
    " \\end{equation}\n",
    "\n",
    "Following the same principle, more constraints can be added and note that after some manipulations, Eq.(\\ref{QUBO}) can be rewritten in the form of Eq.(\\ref{QUBO_form}). The last step to represent the QUBO problem on QPUs is to change the $x_i$ variables to spin variables $z_i \\in \\{1, -1\\}$ by the transformation $x_i = (1 - z_i) / 2$. Hence, Eq.(\\ref{QUBO_form}) represented in terms of the cost Hamiltonian model reads\n",
    "\n",
    "\\begin{equation}\\label{IsingH}\n",
    "H_c(\\mathrm{z}) = \\sum_{i=1}^{n-1}\\sum_{j>i}^n q_{ij} (1 - z_i) (1 - z_j)/4 + \\sum_{i=1}^n q_{ii} (1 - z_i)/2.\\tag{11}\n",
    "\\end{equation} "
   ]
  },
  {
   "cell_type": "code",
   "execution_count": 1,
   "id": "1adeff09",
   "metadata": {},
   "outputs": [],
   "source": [
    "from sympy import Symbol\n",
    "import numpy as np\n",
    "from scipy.optimize import minimize\n",
    "import matplotlib.pyplot as plt\n",
    "\n",
    "from qiskit import QuantumCircuit\n",
    "from qiskit.circuit import ParameterVector\n",
    "from qiskit import Aer\n",
    "from qiskit.visualization import plot_histogram\n",
    "\n",
    "label_size = 16\n",
    "plt.rcParams['xtick.labelsize'] = label_size \n",
    "plt.rcParams['ytick.labelsize'] = label_size \n",
    "plt.rcParams['axes.labelsize'] = label_size \n",
    "plt.rcParams['legend.fontsize'] = label_size \n",
    "%matplotlib inline"
   ]
  },
  {
   "cell_type": "markdown",
   "id": "c35ba114",
   "metadata": {},
   "source": [
    "### <a class=\"anchor\" id=\"example\"> </a>2. Example\n",
    "\n",
    "A knapsack problem with 3 items with weights $w_i = [1, 2, 3]$, values $v_i=[5, 2, 4]$, and the knapsack maximum weight $W_{max}=3$, \n",
    "\n",
    "\\begin{equation}\\label{QUBO_form}\n",
    "f(\\mathrm{x}) = \\sum_{i=1}^{3} v_{i}x_{i} \\tag{12}\n",
    "\\end{equation}\n",
    "\n",
    "and inequality constraints given by\n",
    "\n",
    "\\begin{equation}\\label{inequality}\n",
    "W_{max} - \\sum_{i=1}^3 w_i x_i \\ge 0, \\tag{14}\n",
    "\\end{equation}\n",
    "\n",
    "The problem has a QUBO formulation given by Eq. \\ref{QUBO_K}\n",
    "\\begin{equation}\\label{QUBO_K}\n",
    "\\min_x \\sum_{i=1}^n -v_i x_i + \\lambda_1  \\left( W_{max} - \\sum_{i=1}^{3}w_i x_i -\\sum_{k=0}^{N-1} 2^k s_k \\right)^2, \\tag{15}\n",
    "\\end{equation}\n",
    "\n",
    "where $N = \\lceil \\log_2(\\max_x W_{max} - \\sum_{i=1}^n w_i x_i)\\rceil = \\log_2(W_{max})$."
   ]
  },
  {
   "cell_type": "code",
   "execution_count": null,
   "id": "ca0a6638",
   "metadata": {},
   "outputs": [],
   "source": [
    "def Knapsack(values: list, weights: list, max_weight: int, penalty:float):\n",
    "    n_items = len(values) # number of variables\n",
    "    n_slacks = int(np.ceil(np.log2(max_weight))) # number of slack variables\n",
    "    \n",
    "    x = {i: Symbol(f\"x{i}\") for i in range(n_items)}  # variables that represent the items\n",
    "    S = sum(2**k * Symbol(f\"s{k}\") for k in range(n_slacks)) # the slack variable in binary representation\n",
    "    \n",
    "    # objective function --------\n",
    "    cost_fun = - sum([values[i]*x[i] for i in x]) # maximize the value of the items trasported Eq.12\n",
    "    #(Note that minimizing the negative of cost function is the same that maximizing it)\n",
    "    \n",
    "    # ---------    constraint   Eq. 14  ----------\n",
    "    constraint = max_weight - sum(weights[i] * x[i] for i in x) - S #inequality constraint\n",
    "\n",
    "    cost = cost_fun + penalty * constraint**2 # Eq. 15 cost function with penalization term for the Knapsack problem\n",
    "    return cost"
   ]
  },
  {
   "cell_type": "code",
   "execution_count": null,
   "id": "b643bcfc",
   "metadata": {},
   "outputs": [],
   "source": [
    "values = [5, 2, 4]\n",
    "weights = [1, 2, 3]\n",
    "max_weight = 3\n",
    "penalty = 5 #lambda_1\n",
    "qubo = Knapsack(values, weights, max_weight, penalty) # Eq. 10 QUBO formulation\n",
    "print(r'QUBO: min_x', qubo)"
   ]
  },
  {
   "cell_type": "markdown",
   "id": "c826cf81",
   "metadata": {},
   "source": [
    "Note that $x_{i} x_{i} \\equiv x_{i}$, therefore"
   ]
  },
  {
   "cell_type": "code",
   "execution_count": null,
   "id": "598cf5a7",
   "metadata": {},
   "outputs": [],
   "source": [
    "# Expanding and replacing the quadratic terms xi*xi = xi\n",
    "qubo = qubo.expand().subs({symbol**2:symbol for symbol in qubo.free_symbols})\n",
    "qubo"
   ]
  },
  {
   "cell_type": "markdown",
   "id": "29826878",
   "metadata": {},
   "source": [
    "### <a class=\"anchor\" id=\"ising\"> </a> 2.1 Ising Hamiltonian\n",
    "The last step to represent the QUBO problem on QPUs is to change the $x_i \\in \\{0, 1\\}$ variables to spin variables $z_i \\in \\{-1, 1\\}$ by the transformation \n",
    "\n",
    "$x_i = (1 + z_i) / 2$    (Eq. 11)\n",
    "\n",
    "\n",
    "### <font color=#C4232E> Exercise 1 </font>\n",
    "\n",
    "Using the [`subs`](https://www.geeksforgeeks.org/python-sympy-subs-method-2/) sympy function, convert the QUBO formulation into an `Ising Hamiltonian`. You can use the `new_vars` dictionary provided below."
   ]
  },
  {
   "cell_type": "code",
   "execution_count": null,
   "id": "0a859eaf",
   "metadata": {},
   "outputs": [],
   "source": [
    "new_vars = {xi:(1 + Symbol(f\"z{i}\"))/2 for i, xi in enumerate(qubo.free_symbols)}\n",
    "new_vars"
   ]
  },
  {
   "cell_type": "code",
   "execution_count": null,
   "id": "93cbdbe6",
   "metadata": {},
   "outputs": [],
   "source": [
    "ising_Hamiltonian = # your code here\n",
    "print(\"H(z)=\", ising_Hamiltonian)"
   ]
  },
  {
   "cell_type": "markdown",
   "id": "7a6aec4c",
   "metadata": {},
   "source": [
    "### <a class=\"anchor\" id=\"brute_sol\"> </a> 2.2 Brute force solution\n",
    "\n",
    "The first option to solve the knapsack problem is to use the brute force method. This method evaluates all the possible solutions of the QUBO and returns the one with the minimum cost. However, the number of possible solutions scales as $2^n$ where $n$ is the number of items in the problem, this makes this solution unfeasible for large instances.\n",
    "\n",
    "### <font color=#C4232E> Exercise 2 </font>\n",
    "\n",
    "Evaluate the `QUBO` for all possible bitstrings and return the bitstring with the lowest energy and the lowest energy. "
   ]
  },
  {
   "cell_type": "code",
   "execution_count": null,
   "id": "92cefb90",
   "metadata": {},
   "outputs": [],
   "source": [
    "def brute_force(qubo):\n",
    "\n",
    "    #your code here\n",
    "    \n",
    "    return min_cost, bitstring\n",
    "\n",
    "sol_brute = brute_force(qubo)\n",
    "optimal = {var:int(s) for var, s in zip(qubo.free_symbols, sol_brute[1][1])}\n",
    "sol_str = sol_brute[1][1]\n",
    "print(f\"Optimal result: {optimal} | cost:{sol_brute[1][0]}\")"
   ]
  },
  {
   "cell_type": "markdown",
   "id": "89f7c7f3",
   "metadata": {},
   "source": [
    "## <a class=\"anchor\" id=\"qaoa\"> </a>3. QAOA Circuit\n",
    "\n",
    "Finally, we use [QAOA](https://arxiv.org/pdf/1411.4028.pdf) to find the solution to our Knapsack problem. In this case, the cost Hamiltonian, $H(z)$, obtained from the QUBO formulation, is translated into a parametric unitary gate given by\n",
    "\n",
    "\\begin{equation}\\label{UC}\n",
    "    U(H_c, \\gamma)=e^{-i \\gamma H_c},\\tag{16}\n",
    "\\end{equation}\n",
    " where $\\gamma$ is a parameter to be optimized. A second unitary operator applied is \n",
    "\n",
    "\\begin{equation}\\label{UB}\n",
    "    U(B, \\beta)=e^{i \\beta X},\\tag{17}\n",
    "\\end{equation}\n",
    "\n",
    "where $\\beta$ is the second parameter that must be optimized and $X = \\sum_{i=1}^n \\sigma_i^x$ with $\\sigma_i^x$ the Pauli\\-x quantum gate applied to qubit $i$. The general QAOA circuit is shown in **Fig.1**. Here, $R_X(\\theta) = e^{-i \\frac{\\theta}{2} \\sigma_x}$, $p$ represents the number of repetitions of the unitary gates Eqs.\\ref{UC} and \\ref{UB} with each repetition having separate values for $\\gamma_p$ and $\\beta_p$, and the initial state is a superposition state $| + \\rangle^{\\otimes n}$.\n",
    "\n",
    "<br><center><img src=\"./Images/QAOA.png\" width=\"400\"><img src=\"./Images/Circuit_Requirements.png\" width=\"300\"><b> **Fig.1** Schematic representation of QAOA for $p$ layers. The parameters $\\gamma$ and $\\beta$ for each layer are the ones to be optimized. </center><br>\n",
    "\n",
    "\n",
    "### <font color=#C4232E> Exercise 3 </font>\n",
    "\n",
    "Complete the code in the `QAOA function`. You can use [`rz`](https://qiskit.org/documentation/stubs/qiskit.circuit.library.RZGate.html) gate and [`rzz`](https://qiskit.org/documentation/stubs/qiskit.circuit.library.RZZGate.html) gate."
   ]
  },
  {
   "cell_type": "code",
   "execution_count": null,
   "id": "c69aa23b",
   "metadata": {},
   "outputs": [],
   "source": [
    "def qaoa_circuit(ising_Hamiltonian, reps=1):\n",
    "    gammas = ParameterVector(r\"$\\gamma$\", reps) # Create a set of variables gamma\n",
    "    betas = ParameterVector(r\"$\\beta$\", reps) # Create a set of variables beta\n",
    "    terms_and_weights = sympy_to_dict(ising_Hamiltonian) #convert the hamiltonian into a dictionary\n",
    "    num_qubits = len(ising_Hamiltonian.free_symbols) # Based on the variables \n",
    "    qc = QuantumCircuit(num_qubits) # Creating a quantum circuit\n",
    "    # Apply the initial layer of Hadamard gates to all qubits\n",
    "    qc.h(range(num_qubits))\n",
    "    # repeat p layers the circuit shown in Fig. 1\n",
    "    for p in range(reps):\n",
    "        for terms, weights in terms_and_weights.items():\n",
    "            if len(terms) == 1: # single-qubit terms\n",
    "                \n",
    "                # your code here!\n",
    "                \n",
    "        for terms, weights in terms_and_weights.items():\n",
    "            if len(terms) == 2: # two-qubit terms\n",
    "                \n",
    "                # your code here!\n",
    "                \n",
    "        qc.rx(2 * betas[p], range(num_qubits)) # mixer \n",
    "    qc = qc.reverse_bits() #Because the measurement is given in reversed order\n",
    "    return qc\n",
    "\n",
    "def sympy_to_dict(ising_hamiltonian):\n",
    "    ising_hamiltonian = ising_hamiltonian.expand().simplify()\n",
    "    n_vars = len(ising_Hamiltonian.free_symbols)\n",
    "    variables = [Symbol(f\"z{i}\") for i in range(n_vars)]\n",
    "    hamiltonian_dict = ising_Hamiltonian.as_coefficients_dict()\n",
    "    max_weight = float(np.max(np.abs(list(ising_Hamiltonian.as_coefficients_dict().values()))))\n",
    "    terms_and_weights = {}\n",
    "    for i in range(n_vars):\n",
    "        if variables[i] in hamiltonian_dict.keys():\n",
    "            terms_and_weights[(i,)] = hamiltonian_dict[variables[i]]/max_weight\n",
    "        for j in range(i, n_vars):\n",
    "            if variables[j] * variables[i] in hamiltonian_dict.keys():\n",
    "                terms_and_weights[(i,j)] = hamiltonian_dict[variables[i]*variables[j]]/max_weight\n",
    "    terms_and_weights[()] = ising_Hamiltonian.args[0] # Constant term\n",
    "    return terms_and_weights"
   ]
  },
  {
   "cell_type": "markdown",
   "id": "efcb5710",
   "metadata": {},
   "source": [
    "### <a class=\"anchor\" id=\"qaoa_circ\"> </a>3.1 QAOA quantum Circuit"
   ]
  },
  {
   "cell_type": "code",
   "execution_count": null,
   "id": "4ffed086",
   "metadata": {},
   "outputs": [],
   "source": [
    "p = 1\n",
    "qc = qaoa_circuit(ising_Hamiltonian, reps=p)\n",
    "qc.draw(\"mpl\")"
   ]
  },
  {
   "cell_type": "markdown",
   "id": "d76000a6",
   "metadata": {},
   "source": [
    "### <a class=\"anchor\" id=\"qaoa_opt\"> </a> 3.2 Optimization \n",
    "\n",
    "Once we define the QAOA circuit of the combinatorial optimization problem, the next step is to find values of $\\beta$ and $\\gamma$ that minimize the expectation value of the Ising Hamiltonian. Here, we use Qiskit and simpy to find the minimum of cost function. In this case, we use the COBYLA optimization method with a maximum iteration equal to 200. Then, We use method Nelder-Mead to refine the solution.\n",
    "\n",
    "### <font color=#C4232E> Exercise 4 </font>\n",
    "\n",
    "Evaluate the `QUBO` with the solution of the `QAOA` circuit."
   ]
  },
  {
   "cell_type": "code",
   "execution_count": null,
   "id": "070f8a1f",
   "metadata": {},
   "outputs": [],
   "source": [
    "callback_f = {\"fx\":[], \"params\":[]}\n",
    "def cost_func(parameters, circuit, objective, shots=10, backend=Aer.get_backend(\"qasm_simulator\")):\n",
    "    \"\"\"\n",
    "    Return a cost function that depends of the QAOA circuit \n",
    "\n",
    "    Parameters\n",
    "    ----------\n",
    "    parameters : list\n",
    "        gamma and beta values of the QAOA circuit.\n",
    "    circuit : QuantumCircuit\n",
    "        Qiskit quantum circuit of the QAOA.\n",
    "    objective : sympy QUBO formulation \n",
    "        Objective function of the problem \n",
    "    shots : int, optional\n",
    "        number of times the QAOA circuit is run. The default is 10.\n",
    "    backend : Qiskit Backend, optional\n",
    "        The default is Aer.get_backend(\"qasm_simulator\").\n",
    "\n",
    "    Returns\n",
    "    -------\n",
    "    float\n",
    "        Cost of the evaluation of n string on the objective function \n",
    "\n",
    "    \"\"\"\n",
    "    cost = 0\n",
    "    # running the QAOA circuit using qiskit \n",
    "    qc = circuit.copy()\n",
    "    qc.measure_all()\n",
    "    counts = backend.run(qc.assign_parameters(parameters=parameters), shots=shots).result().get_counts()\n",
    "    # The qiskit's result is a dictionary with strings {0,1}^n as keys and count number as the value\n",
    "    for sample, n_counts in counts.items():\n",
    "        dict_sol = {xi:int(bi) for xi, bi in zip(objective.free_symbols, sample)}\n",
    "        \n",
    "        # ----------    Your code here ---------\n",
    "        \n",
    "        feval = #evaluate the QUBO using the bitstring dict_sol\n",
    "        \n",
    "        # -----------------------------\n",
    "        \n",
    "        cost += n_counts * float(feval)\n",
    "    callback_f[\"fx\"].append(cost/shots)\n",
    "    callback_f[\"params\"].append(parameters)\n",
    "    return cost / shots\n"
   ]
  },
  {
   "cell_type": "code",
   "execution_count": null,
   "id": "00751ddf",
   "metadata": {},
   "outputs": [],
   "source": [
    "opt_steps = {\"fx\":[], \"params\":[]}\n",
    "Nfeval = 0\n",
    "def callback(parameters):\n",
    "    # Saving the results of every iteration\n",
    "    global Nfeval\n",
    "    print('{0:4d}   {1: 3.6f}   {2: 3.6f}   {3: 3.6f}'.format(Nfeval, parameters[0], parameters[1], cost_func(parameters, qc, qubo)))\n",
    "    Nfeval += 1\n",
    "    opt_steps[\"fx\"].append(cost_func(parameters, qc, qubo))\n",
    "    opt_steps[\"params\"].append(parameters)\n",
    "\n",
    "np.random.seed(1)\n",
    "x0 = [0.1, 0.1] # Initial guessing\n",
    "#-------- Simpy minimization method to find optimal parameters for beta and gamma\n",
    "sol = minimize(cost_func, x0 = x0, args=(qc, qubo, 100),\n",
    "               callback=callback, method=\"COBYLA\", options={\"maxiter\":200, \"rhobeg\":np.pi/2})\n",
    "#refine the solution with a second optimization method\n",
    "sol = minimize(cost_func, x0 = sol.x, args=(qc, qubo, 100),\n",
    "               callback=callback, method=\"nelder-mead\", options={\"maxiter\":100})\n",
    "sol\n"
   ]
  },
  {
   "cell_type": "markdown",
   "id": "8580e223",
   "metadata": {},
   "source": [
    "### <a class=\"anchor\" id=\"visualization\"> </a> 3.3 Results visualization"
   ]
  },
  {
   "cell_type": "markdown",
   "id": "b1b91d0b",
   "metadata": {},
   "source": [
    "#### Optimization steps (Ising Hamiltonian expectation value)"
   ]
  },
  {
   "cell_type": "code",
   "execution_count": null,
   "id": "c4ac708e",
   "metadata": {},
   "outputs": [],
   "source": [
    "# expectation value vs. iterations\n",
    "fig, ax = plt.subplots()\n",
    "ax.plot(opt_steps[\"fx\"])\n",
    "ax.set_xlabel(\"iterations\")\n",
    "ax.set_ylabel(r\"$\\langle H(z)\\rangle$\")\n",
    "ax.grid()\n",
    "ax.set_title(\"QAOA\")"
   ]
  },
  {
   "cell_type": "markdown",
   "id": "d718ef5c",
   "metadata": {},
   "source": [
    "#### Histogram visualization: 50 Shots of the QAOA circuit with optimal parameters"
   ]
  },
  {
   "cell_type": "code",
   "execution_count": null,
   "id": "6a429ead",
   "metadata": {},
   "outputs": [],
   "source": [
    "# Use the Aer simulator with 50 shots to find the distribution of solutions. Note that not all of them are valid solutions.\n",
    "# Remember that QAOA in general does not find the optimal solution but a probability distribution where optimal and suboptimal\n",
    "# solutions are more probable in general.\n",
    "backend = Aer.get_backend(\"qasm_simulator\")\n",
    "arg_min = np.argmin(callback_f[\"fx\"])\n",
    "params = callback_f[\"params\"][arg_min]\n",
    "qc_eval = qc.copy() # Create a copy of our qiskit quantum circuit\n",
    "qc_eval.measure_all() # Measure all the qubits\n",
    "results = backend.run(qc_eval.assign_parameters(parameters=sol.x), shots=50).result().get_counts() #Run the circuit on qasm_simulator backend\n",
    "opt_res = {sol_str:results[sol_str]} #times the optimal solution is found\n",
    "# results.pop(sol_str[::-1])\n",
    "# plot_histogram is a qiskit function\n",
    "fig, ax = plt.subplots(figsize=(20,5))\n",
    "ax.bar([int(k, 2) for k in results.keys()], results.values())\n",
    "ax.bar([int(k, 2) for k in results.keys() if k in opt_res], [v for k, v in results.items() if k in opt_res], color=\"tab:red\", label=\"optimal\")\n",
    "ax.set_xticks(range(2**len(qubo.free_symbols)))\n",
    "ticks = ax.set_xticklabels([np.binary_repr(i, len(qubo.free_symbols)) for i in range(2**len(qubo.free_symbols))], rotation=90)\n",
    "ax.set_ylabel(\"Count\", fontsize=18)\n",
    "ax.legend()\n",
    "ax.set_title(\"QAOA with optimized parameters solutions count\", fontsize=18)"
   ]
  },
  {
   "cell_type": "code",
   "execution_count": null,
   "id": "ad11a93f",
   "metadata": {},
   "outputs": [],
   "source": [
    "# statevector_simulator gives us the exact solution of QAOA, additionally, from it, we can get the probabilities.\n",
    "backend = Aer.get_backend(\"statevector_simulator\")\n",
    "probabilities = backend.run(qc.assign_parameters(parameters=sol.x)).result().get_statevector().probabilities()\n",
    "print(f\"Probability of finding the optimal solution using QAOA: {100*np.round(probabilities[int(sol_str,2)],4)}%\")\n",
    "print(f\"Random guessing: {100/2**len(sol_str)}%\")"
   ]
  },
  {
   "cell_type": "markdown",
   "id": "754fa68d",
   "metadata": {},
   "source": [
    "## Landscape\n",
    "\n",
    "For the case where there is just one layer on the QAOA, we can visualize the energy expectation value $\\langle H(z) \\rangle$ for the knapsack problem. The Figure below shows the landscape for the Knapsack problem with the optimal solution of the optimization step.\n",
    "\n",
    "### <font color=#C4232E> Exercise 5 </font>\n",
    "\n",
    "Using the `cost_func` evaluate the energy landscape for different gammas and betas given below."
   ]
  },
  {
   "cell_type": "code",
   "execution_count": null,
   "id": "ae73e8d2",
   "metadata": {},
   "outputs": [],
   "source": [
    "n1 = n2 = 50\n",
    "gammas = np.linspace(0, np.pi, n1)\n",
    "betas = np.linspace(-np.pi/2, np.pi/2, n2)\n",
    "\n",
    "landscape = np.zeros((n1, n2))\n",
    "circ = qc.copy()\n",
    "circ.measure_all()\n",
    "for i in range(n1):\n",
    "    for j in range(n2):\n",
    "        \n",
    "        landscape[i,j] = # your code here!"
   ]
  },
  {
   "cell_type": "code",
   "execution_count": null,
   "id": "7426d44d",
   "metadata": {},
   "outputs": [],
   "source": [
    "fig, ax = plt.subplots(figsize=(5,5))\n",
    "ax1 = ax.imshow(landscape, cmap=\"coolwarm\", extent=[-np.pi/2, np.pi/2, np.pi, 0])\n",
    "ax.plot(sol.x[1], sol.x[0], marker=\"*\", markersize=10, markeredgecolor=\"black\", color=\"tab:red\", label=\"optimal\", linewidth=0)\n",
    "\n",
    "ax.set_xticks([-np.pi/2, 0, np.pi/2])\n",
    "ax.set_yticks([0,np.pi])\n",
    "ax.set_xticklabels([r\"$-\\pi/2$\", 0, r\"$\\pi/2$\"])\n",
    "ax.set_yticklabels([0, r\"$\\pi$\"])\n",
    "ax.set_xlabel(r\"$\\beta$\")\n",
    "ax.set_ylabel(r\"$\\gamma$\")\n",
    "ax.legend(loc='upper center', bbox_to_anchor=(0.5,1.27))\n",
    "ax.set_title(\"Energy Landscape\", fontsize=18)\n",
    "plt.colorbar(ax1)"
   ]
  },
  {
   "cell_type": "markdown",
   "id": "ac6c0d88",
   "metadata": {},
   "source": [
    "## <a class=\"anchor\" id=\"task3\"></a> Exercise 6 (Optional)\n",
    "\n",
    "In this excercise you must repeat the knapsack problem this time with some modifications. Now, we need to maximize the value transported on a knapsack with 6 items with weights $w = [7, 2, 1, 3, 2, 5]$, values $v = [4, 3, 2, 1, 5, 3]$, and maximum weight $W_{max} = 15$. An additional restriction in this case is that just one of the items $[x_1, x_3, x_5]$ could be in the knapsack.\n",
    "\n",
    "\\begin{equation}\n",
    "x_1 + x_3 + x_5 = 1\n",
    "\\end{equation}\n",
    "\n",
    "1. Repeat the steps in [**Example**](#example) and [**QAOA**](#qaoa) for this problem (note that you should modify the qubo formulation to include the equality constraint.)\n",
    "\n",
    "2. Run it on a [fake backend](https://qiskit.org/documentation/apidoc/providers_fake_provider.html) to simulate what happen on a real quantum device. Please use the fakle backend of `ibmq_guadalupe`"
   ]
  },
  {
   "cell_type": "code",
   "execution_count": null,
   "id": "3a5455f5",
   "metadata": {},
   "outputs": [],
   "source": [
    "from qiskit.providers.fake_provider import FakeGuadalupeV2"
   ]
  },
  {
   "cell_type": "code",
   "execution_count": null,
   "id": "a6ad55e5",
   "metadata": {},
   "outputs": [],
   "source": [
    "backend = FakeGuadalupeV2()"
   ]
  },
  {
   "cell_type": "code",
   "execution_count": null,
   "id": "c85a967c",
   "metadata": {},
   "outputs": [],
   "source": []
  }
 ],
 "metadata": {
  "kernelspec": {
   "display_name": "UF",
   "language": "python",
   "name": "uf"
  },
  "language_info": {
   "codemirror_mode": {
    "name": "ipython",
    "version": 3
   },
   "file_extension": ".py",
   "mimetype": "text/x-python",
   "name": "python",
   "nbconvert_exporter": "python",
   "pygments_lexer": "ipython3",
   "version": "3.9.13"
  }
 },
 "nbformat": 4,
 "nbformat_minor": 5
}
