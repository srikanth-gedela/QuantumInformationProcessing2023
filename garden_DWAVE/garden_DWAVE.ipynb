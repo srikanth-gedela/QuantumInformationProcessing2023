{
 "cells": [
  {
   "cell_type": "markdown",
   "id": "4f874f06-8c94-4b0f-b05e-f5bf179a0f6f",
   "metadata": {},
   "source": [
    "# **Garden Optimization Problems**\n",
    "\n",
    "![title](images/cartoon.png)\n",
    "\n",
    "\n",
    "## **Motivation**\n",
    "Over the course of this project we will develop a real life application for D-Wave by creating our own QUBO problem from scratch through guided exercises, and later on make some basic problem submissions to D-Wave devices.\n",
    "\n",
    "What we will focus on: \n",
    "- recognizing a real-life discrete optimization problem which is suitable for solving on a quantum annealer,\n",
    "- learning how to state this problem mathematically, \n",
    "- casting this formulation into a D-Wave-compatible QUBO form,\n",
    "- submitting this problem to D-Wave's LeapHybridSolver and analyzing the results.\n",
    "\n",
    "What we will *not* focus on:\n",
    "- advanced usage of the bare QPUs\n",
    "- embedding of problems to target specific QPUs,\n",
    "- fine-tuning of parameters like the chain-strength, annealing time, reverse annealing schemes,...\n",
    "\n",
    "\n",
    "## **Introduction**\n",
    "\n",
    "For this problem, the objective is to find an optimal placement of vegetable plants in a garden, respecting that some plant species have friendly, neutral, or antagonistic relations with other species (see Fig. 1, where -1 = friendly, 0 = neutral and +1 = antagonistic relationship), a technique known as companion planting. For instance, tomato and lettuce have a friendly relationship and could be placed next to each other, whereas tomato and cucumber have an antagonistic relationship and should be placed apart from each other.\n",
    "\n",
    "![title](images/companions.svg)\n"
   ]
  },
  {
   "cell_type": "markdown",
   "id": "f69b6b97-ba11-4abd-a287-ef87a8e737b1",
   "metadata": {},
   "source": [
    "# **Section 1:** Setting up\n",
    "\n",
    "In this first section we will create the inputs required to generate our QUBO problem in later sections. "
   ]
  },
  {
   "cell_type": "markdown",
   "id": "ce43282d-f38f-454a-b5bc-385665f5ce41",
   "metadata": {},
   "source": [
    "## **Exercise 1.1:** Creating the garden\n",
    "\n",
    "As a first step we need to create the garden by laying out the pots where we will place our plants in later stages.\n",
    "\n",
    "**a)** Create a *graph* $G$ of the garden pots arranged in a square grid with $k$ columns and $l$ rows, where nodes represent pots and edges between nodes are only present if the pots are adjacent. \n",
    "\n",
    "**HINT:** `networkx` has a lot of [graph generators](https://networkx.org/documentation/networkx-2.6.2/reference/generators.html).\n",
    "\n",
    "\n",
    "\n",
    "**b)** Create a sorted list of pots $n$.\n",
    "\n",
    "\n",
    "\n",
    "**c)** Plot the garden graph. Make sure that the pot names are visible in the plot, and adjacent pots are connected by edges. Here is an example of how such plot could look like: \n",
    "\n",
    "![title](images/garden_grid.png)\n",
    "\n",
    "\n",
    "\n",
    "**d)** Create an adjacency matrix $J$ of size $(n,n)$ for the garden, where\n",
    "$$\n",
    "J_{ii'} = \\begin{cases}\n",
    "        1 & \\text{if $i<i'$ and pot $i$ and $i'$ are adjacent} \\\\\n",
    "        0 & \\text{otherwise}\n",
    "    \\end{cases}\n",
    "$$\n",
    "\n",
    "\n"
   ]
  },
  {
   "cell_type": "code",
   "execution_count": 5,
   "id": "9554f7dc-9bc6-42c9-9e90-2f50be70afad",
   "metadata": {},
   "outputs": [],
   "source": [
    "%matplotlib inline\n",
    "\n",
    "import numpy as np\n",
    "import networkx as nx\n",
    "import matplotlib.pyplot as plt\n"
   ]
  },
  {
   "cell_type": "markdown",
   "id": "d3f21593-594b-4db5-b914-f208326f548f",
   "metadata": {},
   "source": [
    "## **Exercise 1.2:** Loading the companion species table\n",
    "\n",
    "Within this directory you will find a [CSV](https://en.wikipedia.org/wiki/Comma-separated_values) file `./companions.csv`. This file contains the relationships between different plant species which we may choose to plant in our garden, where $-1$ indicates a friendly relationship, $0$ is neutral and $-1$ is antagonistic.\n",
    "\n",
    "**a)** Import and visualize this file.\n",
    "\n",
    "**b)** Create a sorted list of plant species $p$.\n",
    "\n",
    "**c)** Create a matrix $C$ of plant species relationships indexed by $p$."
   ]
  },
  {
   "cell_type": "code",
   "execution_count": 6,
   "id": "dcdac852-3aa2-407a-8504-e99b00322ac5",
   "metadata": {},
   "outputs": [],
   "source": [
    "import pandas as pd\n",
    "import numpy as np\n",
    "\n",
    "filename = './companions.csv'\n"
   ]
  },
  {
   "cell_type": "markdown",
   "id": "327a58ce-f71f-4d5e-899a-9941281f7c6f",
   "metadata": {},
   "source": [
    "## **Exercise 1.3:** Deciding what plants we want in the garden\n",
    "\n",
    "In this exercise we will figure out what plants will be planted in the $n$ pots of our garden.\n",
    "\n",
    "**a)** Write a function which randomly samples $n$ times from the set of plants defined in $p$ and returns a list of plants $t$. This function should be able to perform sampling with or without replacement.\n",
    "\n",
    "**b)** Modify the function from (a) to return a histogram in the form of a tuple $(t,c)$ where:\n",
    "- $t$ is the list of *unique* plants sampled and \n",
    "- $c$ is the number of times each element of $t$ was sampled.\n",
    "\n",
    "**c)** Verify that the function in (b) returns as many plants as there are pots in our garden."
   ]
  },
  {
   "cell_type": "code",
   "execution_count": null,
   "id": "c3da4d04-ea11-4fc9-b1ff-340ba5affeb4",
   "metadata": {},
   "outputs": [],
   "source": []
  },
  {
   "cell_type": "markdown",
   "id": "f8f603c7-b218-45da-84a9-04c014779918",
   "metadata": {},
   "source": [
    "# **Section 2**: Creating the cost function\n",
    "\n",
    "Now that we have generated the input variables which we needed to determine the layout of our garden, the plants we want to plant and their interrelationships, we can move on to formulating the problem.\n",
    "\n",
    "D-Wave Quantum Annealers require that the optimisation problem is submitted in [QUBO](https://en.wikipedia.org/wiki/Quadratic_unconstrained_binary_optimization) format (or the physics equivalent Ising model). QUBO/Ising have in common that the problem variables over which the cost function of our problem is formulated are *binary* ($\\{0,1\\}$ for QUBO or $\\{-1,+1\\}$ for Ising).\n",
    "\n",
    "Given the pots in the garden numbered by $i = 0 .. n-1$ and the selected plant species numbered by $j = 0 .. t-1$, let us define the *binary* decision variables vector for our QUBO problem to be:\n",
    "\n",
    "$$\n",
    "\\mathbf{x} = (x_{0,0}, x_{0,1}, \\ldots, x_{{n-1},{t-1}})\n",
    "$$\n",
    "\n",
    "where each entry of vector $\\mathbf{x}$ takes the following value:\n",
    "\n",
    "$$\n",
    "x_{ij} = \\begin{cases}\n",
    "        1 & \\text{if plant $j$ should be planted in pot $i$ } \\\\\n",
    "        0 & \\text{otherwise}\n",
    "    \\end{cases}\n",
    "$$\n",
    "\n",
    "**QUESTION:** How many bits does vector $\\mathbf{x}$ have?\n",
    "\n",
    "Using this encoding, the solution to our optimization problem should be an assignment of $x_{ij}$ values which:\n",
    "1) Fills each of our pots $i$ in $n$ with exactly one of the plants listed in $t$,\n",
    "2) Plants each plant $j$ in our list $t$ exactly $c_j$ times,\n",
    "3) Minimizes the unhappiness of all plants due to each being planted next to an incompatible neighbor.\n",
    "\n",
    "**QUESTION:** Assuming that constraints (1) and (2) are respected, how many entries of $\\mathbf{x}$ should take value $1$?\n",
    "\n",
    "Over the exercises in this section we will create mathematical expression of a QUBO problem which ensures that constraints (1) and (2) are respected and returns a minimum energy for an optimal arrangement of plants according to (3) is found, and higher energies for less suitable arrangements. \n",
    "\n",
    "\n",
    "**HINT:** You can write math notation in a Jupyter Notebook by creating a Markdown cell and writing your LaTeX math code between `$$ $$` symbols."
   ]
  },
  {
   "cell_type": "markdown",
   "id": "0723abdb-92aa-4bef-b261-1cac2732dce4",
   "metadata": {},
   "source": [
    "## **Exercise 2.1:** Encoding and decoding between problem and qubit spaces\n",
    "\n",
    "**a)** Write an `encode()` function which maps every possible $(i,j)$ pot-plant combination to an integer between $0..(n\\dot{t}-1)$.\n",
    "\n",
    "**b)** Write the reverse `decode()` function which maps an integer between $0..(n\\dot{t}-1)$ to one of the possible $(i,j)$ pot-plant combinations.\n",
    "\n",
    "**c)** Verify that `i,j = decode(encode(i,j))` for all $i \\in n$ and $j \\in t$."
   ]
  },
  {
   "cell_type": "code",
   "execution_count": 7,
   "id": "3a14a60e-197a-4c42-90e0-edf284a00767",
   "metadata": {},
   "outputs": [],
   "source": [
    "#a)\n",
    "\n",
    "def encode():\n",
    "    return index\n",
    "\n",
    "\n",
    "#b)\n",
    "\n",
    "def decode():    \n",
    "    return pot,species"
   ]
  },
  {
   "cell_type": "markdown",
   "id": "b2975773-2cdb-4c4b-a7b7-e33e9c9d7c99",
   "metadata": {},
   "source": [
    "## **Exercise 2.2:** Fill every pot\n",
    "\n",
    "In this exercise we will build the expression for constraint (1).\n",
    "\n",
    "**a)** Design a mathematical expression $k_i(\\mathbf{x})$ which returns a value of $0$ if exactly one plant $j$ is planted in pot $i$, and larger values for other assignments of $\\mathbf{x}$ which do not respect the constraint.\n",
    "\n",
    "**b)** Build upon $k_i(\\mathbf{x})$ to design a mathematical expression $k(\\mathbf{x})$ which returns a value of $0$ if exactly one plant $j$ is planted in pot $i$ for each pot.\n",
    "\n",
    "**c)** Expand out any higher order terms in $k(\\mathbf{x})$ and extract any constant terms out of the summations.\n",
    "\n",
    "**HINT:** Remember that $x_{ij}$ is binary, which means that the statement $x_{ij}^2=x_{ij}$ holds true for whichever value $x_{ij}$ takes. "
   ]
  },
  {
   "cell_type": "markdown",
   "id": "742e9e26-2af8-4757-8479-d0ba639959e5",
   "metadata": {},
   "source": []
  },
  {
   "cell_type": "markdown",
   "id": "5cefda32-59ab-434e-b7dc-087dec94be90",
   "metadata": {},
   "source": [
    "## **Exercise 2.3:** Plant every plant\n",
    "\n",
    "In this exercise we will build the expression for constraint (2).\n",
    "\n",
    "**a)** Design a mathematical expression $l_j(\\mathbf{x})$ which returns a value of $0$ if plant $j$ in $t$ has been planted in the garden exactly $c_j$ times, and larger values for assignments of $\\mathbf{x}$ which do not respect the constraint.\n",
    "\n",
    "**b)** Build upon $l_j(\\mathbf{x})$ to design a mathematical expression $l(\\mathbf{x})$ which returns a value of $0$ if plant $j$ in $t$ has been planted in the garden exactly $c_j$ times for each plant type.\n",
    "\n",
    "**c)** Expand out any higher order terms in $l(\\mathbf{x})$ and extract any constant terms out of the summations."
   ]
  },
  {
   "cell_type": "markdown",
   "id": "6635bf02-119a-4f34-80b6-66b518be1391",
   "metadata": {},
   "source": []
  },
  {
   "cell_type": "markdown",
   "id": "74ad3034-a5fa-41dc-a1ab-77c007372326",
   "metadata": {},
   "source": [
    "## **Exercise 2.4:** Minimize plant unhappiness\n",
    "\n",
    "In this exercise we will build the expression for the cost function in (3). \n",
    "\n",
    "**a)** Starting with a garden of just two neighboring pots $i$ and $i'$ and two plant species $j$ and $j'$, design a mathematical expression $E(x_{ij},x_{i'j'})$ which takes the following values:\n",
    "\n",
    "$$\n",
    "E(x_{ij},x_{i'j'}) = \\begin{cases}\n",
    "                        0 & \\text{if species $j$ and $j'$ have a friendly relationship.} \\\\\n",
    "                        1 & \\text{if species $j$ and $j'$ have a neutral relationship.} \\\\\n",
    "                        2 & \\text{if species $j$ and $j'$ have an antagonistic relationship.}\n",
    "                      \\end{cases}\n",
    "$$\n",
    "\n",
    "**b)** Build upon (a) to create a mathematical expression $E(\\mathbf{x})$ which iterates over all $(i,i')$ pairs of pots in a garden with $n$ (instead of just $2$) pots, and adds up the contributions of their respective $E(x_{ij},x_{i'j'})$.\n",
    "\n",
    "**c)** Modify the expression in (b) so that only plants in adjacent pots contribute to $E(\\mathbf{x})$.\n",
    "\n",
    "**HINT:** Remember the adjacency matrix $J$ from Ex. 1.1?\n",
    "\n",
    "**d)** Expand out any higher order terms in $E(\\mathbf{x})$ and extract any constant terms out of the summations."
   ]
  },
  {
   "cell_type": "markdown",
   "id": "4e10f513-b04d-4e32-80cd-e2cfd1e621cf",
   "metadata": {},
   "source": []
  },
  {
   "cell_type": "markdown",
   "id": "bd17871b-c5c5-4a73-9da8-11e8448e562e",
   "metadata": {},
   "source": [
    "# **Section 3**: Creating and submitting the QUBO problem\n",
    "\n",
    "In Section 2 we have created the mathematical expressions that describe our *Optimization* problem, as well as some constraints which need to be respected by a valid solution, but we don't have a QUBO formulation yet. Can you see what we are still missing?\n",
    "\n",
    "These expressions are formulated over *binary* variables $x_{ij}$, which means that we already have a *Binary Optimization* problem.\n",
    "\n",
    "The meaning of *quadratic* in the QUBO model is that the highest-order interaction allowed between problem variables is quadratic (i.e. order 2), or in other words there is no term in the cost function which involves a product of 3 or more $x_{ij}$ variables.\n",
    "\n",
    "**QUESTION:** Have a look at the expressions produced in exercises 2.2-2.4, do you see any term which is neither linear nor quadratic? De we have a *Quadratic Binary Optimization* problem so far?\n",
    "\n",
    "Seems like we are almost there, but there's still these annoying constraints from exercises 2.2 and 2.3 standing on our way to a *Quadratic Unconstrained Binary Optimization* problem. How do we get rid of the constraints while still ensuring that these are respected by our final QUBO?\n",
    "\n",
    "The answer to this is to introduce *penalty parameters* which add a large contribution to the final energy of the solution, only if a constraint has been violated. Therefore, we want to combine the expressions from ex. 2.2-2.4 as follows:\n",
    "\n",
    "$$\n",
    "Q(\\mathbf{x}) = E(\\mathbf{x}) + \\lambda_1 k(\\mathbf{x}) + \\lambda_2 l(\\mathbf{x})\n",
    "$$\n",
    "\n",
    "where $\\lambda_1$ and $\\lambda_2$ are chosen to be sufficiently large. Let us for now choose these to be $\\lambda_1 = \\lambda_2 = 2$."
   ]
  },
  {
   "cell_type": "markdown",
   "id": "b7e690b0-ae4f-4fdd-bc41-8c2ca3c40f9e",
   "metadata": {},
   "source": [
    "## **Exercise 3.1:** Coding the QUBO.\n",
    "\n",
    "In this exercise we will translate from the mathematical formulation created in section 2 to a function which will return a `dimod.BinaryQuadraticModel` instance. This is a data structure used in `D-Wave Ocean SDK` to store and manipulate QUBO/Ising problems.\n",
    "\n",
    "\n",
    "**a)** Write a function which builds the QUBO problem instance based on the mathematical formulation of Section 2 and returns a `dimod.BinaryQuadraticModel` object.\n",
    "\n",
    "We will first create a Python dictionary `Q` and we will add entries to it where the key should be a tuple of integers $(u,v)$ and the value should be the corresponding bias/interaction strength between the $x_u$ and $x_v$ variables.\n",
    "\n",
    "**HINT:** Use the `encode()` function to map between the problem-domain $(i,j)$ pot-plant pairs and the qubit index $u$ which we will use as key for dictionary `Q`.\n",
    "\n",
    "**b)** Write a plotting function which displays the QUBO matrix as a heatmap. This kind of visualization is often helpful to get an overview of the density and strength of the interactions between problem variables."
   ]
  },
  {
   "cell_type": "code",
   "execution_count": 8,
   "id": "8c74856c-5e97-4f8c-bac0-bc135a2338ac",
   "metadata": {},
   "outputs": [],
   "source": [
    "#a)\n",
    "\n",
    "from dimod import BinaryQuadraticModel\n",
    "\n",
    "def build_bqm(l1, l2, n, J, p, C, t, c):\n",
    "    \n",
    "    # initialize QUBO\n",
    "    Q = dict()\n",
    "    offset = 0 # we will add up all the constant terms (i.e. terms which aren't a function of x) in this variable\n",
    "    \n",
    "    # If you want to add term {a} at position Q[index1,index2] use the following pattern:\n",
    "    # index1 = encode(pot1, species1, n, t)\n",
    "    # index2 = encode(pot2, species2, n, t)\n",
    "    # Q[(index1,index2)] = Q.get((index1,index2), 0) + a\n",
    "    \n",
    "    ### YOUR CODE GOES HERE:\n",
    "    \n",
    "    # constraint k(x)\n",
    "    \n",
    "    # constraint l(x)\n",
    "\n",
    "    # objective function E(x)\n",
    "\n",
    "    ###\n",
    "    \n",
    "    Q = {term: Q[term] for term in Q if Q[term] !=0}\n",
    "    bqm = BinaryQuadraticModel.from_qubo(Q, offset=offset)\n",
    "    \n",
    "    return bqm\n",
    "\n",
    "#b) \n",
    "\n",
    "def plot_qubo():\n",
    "    ### YOUR CODE GOES HERE:\n",
    "    \n",
    "    ###\n",
    "    return"
   ]
  },
  {
   "cell_type": "markdown",
   "id": "dfb9c2e2-a5c7-4613-8767-517ae16b81b1",
   "metadata": {},
   "source": [
    "## **Exercise 3.2:** Solving the QUBO and evaluating the results.\n",
    "\n",
    "**a)** Create a small problem instance with a $(2,2)$ garden grid and use `dimod.ExactSolver()` to solve it. (Here is a link to the [docs](https://docs.ocean.dwavesys.com/en/stable/docs_dimod/index.html#example-usage)).\n",
    "\n",
    "**HINT:** `ExactSolver` is a brute-force solver, which means that any problem instance bigger than $(2,2)$ will make the solver crash.\n",
    "\n",
    "**b)** Inspect the resulting `SampleSet` object and extract a solution bitstring corresponding to a ground state of the problem.\n",
    "\n",
    "**QUESTION:** Can you list some reasons why this is a [degenerate](https://en.wikipedia.org/wiki/Degenerate_energy_levels) problem?\n",
    "\n",
    "**c)** Using the `decode` function, decypher the (pot,plant) combination suggestions contained in the solution bitstring. \n",
    "\n",
    "**d)** Write a function `is_valid` which checks the (pot,plant) choices contained in the bitstring respect the constraints.\n",
    "\n",
    "**e)** Write a plotting function which displays the (pot,plant) choices of a valid solution so they reflect friendly/neutral/antagonistic relationships between neighboring plants:\n",
    "\n",
    "![title](images/solution.png)"
   ]
  },
  {
   "cell_type": "code",
   "execution_count": 9,
   "id": "74c2e0fd-48b4-4f4e-9dda-b48bdb121887",
   "metadata": {},
   "outputs": [],
   "source": [
    "from dimod import ExactSolver\n",
    "\n",
    "#a) \n",
    "\n",
    "\n",
    "#b)\n",
    "\n",
    "\n",
    "#c)\n",
    "\n",
    "def decypher():\n",
    "    ### YOUR CODE GOES HERE:\n",
    "    \n",
    "    ###\n",
    "    return choices\n",
    "\n",
    "\n",
    "#d)\n",
    "\n",
    "from collections import Counter\n",
    "\n",
    "def is_valid():\n",
    "    ### YOUR CODE GOES HERE:\n",
    "    \n",
    "    ###\n",
    "    return bool(valid)\n",
    "\n",
    "\n",
    "#e)\n",
    "\n",
    "def plot_solution():\n",
    "    ### YOUR CODE GOES HERE:\n",
    "    \n",
    "    ###\n",
    "    return "
   ]
  },
  {
   "cell_type": "markdown",
   "id": "21ffd468-012c-4bb8-aec1-744a53669f8c",
   "metadata": {},
   "source": [
    "## **Exercise 3.3:** Solving larger QUBO instances with LeapHybridSampler.\n",
    "\n",
    "For larger problem instances, a relatively simple and powerful solver is [LeapHybridSampler](https://docs.ocean.dwavesys.com/en/stable/docs_system/reference/samplers.html#leaphybridsampler). This solver can admit problems with up to a million binary variables, way beyond the capabilities of bare QPUs.\n",
    "\n",
    "**a)** Generate a problem instance with $100$ pots and submit it to `LeapHybridSampler`. \n",
    "\n",
    "**b)** Inspect the returned sample. Is it a valid solution? If not can you think of a way to encourage the sampler to return valid solutions? If there is, try it and see if the situation improves."
   ]
  },
  {
   "cell_type": "code",
   "execution_count": 10,
   "id": "33498cae-c497-4455-94f2-35b145675475",
   "metadata": {},
   "outputs": [],
   "source": [
    "from dwave.system import LeapHybridSampler\n"
   ]
  },
  {
   "cell_type": "markdown",
   "id": "24b5bc2e",
   "metadata": {},
   "source": [
    "# **(Optional) Section 4**: OK I'm done, what now?\n",
    "\n",
    "We have already covered the basics of designing QUBO problem formulations. In the remaining exercises we will cover more advanced or creative topics, as well as give you pointers to other notebooks in this course if you are interested in specific topics which we haven't touched upon here.\n",
    "\n",
    "There may not be enough time to do all of these below, so if you got here read through the exercises below and decide if there's any which you want to focus on."
   ]
  },
  {
   "cell_type": "markdown",
   "id": "66ed49dd-5031-4f7f-8198-7a339e34e9f4",
   "metadata": {},
   "source": [
    "## **Exercise 3.4:** Finding optimal $\\lambda_1$ and $\\lambda_2$ penalty terms.\n",
    "\n",
    "How do we decide what *sufficiently large* penalty terms $\\lambda_1$ and $\\lambda_2$ are? \n",
    "\n",
    "In the last exercise you might have manually tuned $\\lambda_1$ and $\\lambda_2$ until you got valid results. This is a reasonable heuristic method which works well in many scenarios, but are there ways to make more educated guesses regarding the optimal values of the penalty parameters.\n",
    "\n",
    "Intuitively, we want any valid (i.e. constraint-respecting) solution to have a lower energy than any invalid solution, regardless of how bad this solution is in terms of unfriendliness between neighbors. Therefore, we will need to \n",
    "   1. calculate the energy of the worst possible *valid* solution,\n",
    "   2. calculate the energy of the best possible *invalid* solution,\n",
    "   3. set $\\lambda_1$ and $\\lambda_2$ so that the energy of case (2) is slightly larger than that of case (1). \n",
    "   \n",
    "   \n",
    "For a garden arranged as a square grid of $(q,r)$ dimensions and an arbitrary choice of $qr$ plants for $qr$ pots,\n",
    "\n",
    "**a)** What's the largest possible value that $E(\\mathbf{x})$ could take? \n",
    "\n",
    "**b)** What's the smallest possible value that $Q(\\mathbf{x}$ could take if a constraint is violated once? (Assume that the assignment is maximally-friendly otherwise).\n",
    "\n",
    "**c)** Using (a) and (b), find the optimal value for the penalty terms $\\lambda_1$ and $\\lambda_2$.\n",
    "\n",
    "**d)** Repeat exercise 3.2 and check if all valid solutions have lower energy than invalid ones.\n",
    "\n",
    "**e)** Repeat exercise 3.3. Are you getting valid solutions more often now?"
   ]
  },
  {
   "cell_type": "markdown",
   "id": "2b65a739",
   "metadata": {},
   "source": [
    "## **Exercise 3.5:** Extending the problem\n",
    "\n",
    "Do you have any ideas to modify the QUBO formulation? Using the basic formulation as a template, get creative and come up with additional constraints, modify the cost function, etc.\n",
    "\n",
    "Here are a couple of suggestions for inspiration, but of course feel free to implement your own ideas!\n",
    "\n",
    "- Some of the plant species we deal with here are small (namely Basil, Thyme, Parsley, Chives, Rosemary, Sage, Dill, Coriander and Mint) whereas the others are big. Imagine the bottom row of our garden grid is facing the south and is therefore getting more direct sun. Can you think of a way to modify the QUBO so that all the plants get their fair share of sun, i.e. the tall plants don't shadow the small ones?\n",
    "\n",
    "\n",
    "- Play around with the arrangement of pots. A 2D rectangular grid of fixed length is way too restrictive.\n",
    "\n",
    "\n",
    "- ...?"
   ]
  },
  {
   "cell_type": "markdown",
   "id": "23267cf1",
   "metadata": {},
   "source": [
    "## **Exercise 3.6:** Analyzing and visualizing the results\n",
    "\n",
    "When solving problems with quantum annealers it is often the case that one needs to repeatedly analyze large volumes of data during the process of implementing the QUBO, tuning parameters and overall attempting to obtain the best results.\n",
    "\n",
    "In order to do this efficiently it makes sense to create tools which allow you to analyze (or even better visualize) the data you are working with as clearly as possible.\n",
    "\n",
    "Can you think of any such visualization tools which would be helpful for investigating this QUBO problem?"
   ]
  },
  {
   "cell_type": "markdown",
   "id": "388885a8",
   "metadata": {},
   "source": [
    "# Other topics discussed in this course\n",
    "\n",
    "In this notebook we have covered the basics of formulating a real problem as a QUBO, which is the minimum requirement for submitting a problem to a DWave quantum annealer, and we have submitted this problem to the Leap hybrid solver. Hybrid solvers have a significantly simpler interface than the \"bare\" DWave QPUs. Therefore, a lot of relevant details about how to tune a QPU to deliver optimal results for your QUBO have been omitted here. \n",
    "\n",
    "If you are interested in using the QPU directly you should check out [this notebook](./../tsp_DWAVE/traveling-salesman-problem-dwave.ipynb). In it you will learn about embedding QUBO problems onto the QPU and tuning parameters such as the chain strength and the annealing time. Knowing how to tune these will ensure that you get the best results out of the quantum annealer! The notebook uses the Travelling Salesperson Problem (TSP) as a guide, but many of the tuning strategies discussed there are just as well applicable to other QUBO problems.*\n",
    "\n",
    "Going beyond quantum annealing, QUBO problems serve as a bridge towards gate-based quantum computing, as these can also be solved on digital quantum computers using a variational method known as the Quantum Approximate Optimization Algorithm (QAOA). You can learn about applying the QAOA algorithm to solve the garden optimization problem using Qiskit and tuning the algorithm to obtain best results in [this notebook](./../garden_QAOA/garden-qaoa.ipynb).\n",
    "\n",
    "In [this other notebook](./../knapsack_QAOA/knapsack-qaoa.ipynb) you can learn about the Knapsack problem, an NP-complete optimization problem with an important application in the field of logistics. Solving this problem allows you to fit as many packages as possible into a single delivery truck, which could save you lots of money if you happen to own Amazon Inc., for example. The notebook will also teach you how to solve the problem using QAOA and tune the algorithm to obtain optimal results.\n",
    "\n",
    "(* NOTE: If you are interested in solving garden optimization problems on the QPU make sure to work with instances of at most 10 pots, as these problems are already too large for the QPU)."
   ]
  }
 ],
 "metadata": {
  "kernelspec": {
   "display_name": "Python 3 (ipykernel)",
   "language": "python",
   "name": "python3"
  },
  "language_info": {
   "codemirror_mode": {
    "name": "ipython",
    "version": 3
   },
   "file_extension": ".py",
   "mimetype": "text/x-python",
   "name": "python",
   "nbconvert_exporter": "python",
   "pygments_lexer": "ipython3",
   "version": "3.9.13"
  },
  "toc-showtags": false
 },
 "nbformat": 4,
 "nbformat_minor": 5
}
